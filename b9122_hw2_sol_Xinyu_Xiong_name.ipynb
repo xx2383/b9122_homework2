{
 "cells": [
  {
   "cell_type": "code",
   "execution_count": 2,
   "metadata": {},
   "outputs": [],
   "source": [
    "from bs4 import BeautifulSoup\n",
    "import urllib\n",
    "from urllib.parse import urljoin\n",
    "import requests"
   ]
  },
  {
   "cell_type": "markdown",
   "metadata": {},
   "source": [
    "## 1. Extract at least 10 United Nations press releases containing the word “crisis”. Yes, crisis"
   ]
  },
  {
   "cell_type": "code",
   "execution_count": 7,
   "metadata": {},
   "outputs": [
    {
     "name": "stdout",
     "output_type": "stream",
     "text": [
      "https://press.un.org/en/2023/sgsm21982.doc.htm\n",
      "https://press.un.org/en/2023/sgsm21980.doc.htm\n",
      "https://press.un.org/en/2023/sgsm21978.doc.htm\n",
      "https://press.un.org/en/2023/sgsm21967.doc.htm\n",
      "https://press.un.org/en/2023/sga2230.doc.htm\n",
      "https://press.un.org/en/2023/dsgsm1877.doc.htm\n",
      "https://press.un.org/en/2023/sgsm21959.doc.htm\n",
      "https://press.un.org/en/2023/sgsm21956.doc.htm\n",
      "https://press.un.org/en/2023/sgsm21952.doc.htm\n",
      "https://press.un.org/en/2023/sgsm21951.doc.htm\n"
     ]
    }
   ],
   "source": [
    "def scrape_UNpress(num = 10, keyword = 'crisis'):\n",
    "    URL = 'https://press.un.org/en'\n",
    "    page = urllib.request.urlopen(URL)\n",
    "    soup = BeautifulSoup(page, \"html.parser\")\n",
    "    # Find the link for more Latest Press Releases\n",
    "    links = soup.find_all(\"div\", class_=\"more-link\")\n",
    "    morepress = str([i.find(\"a\").get('href') for i in links if i.text == 'Latest Press Releases'][0])\n",
    "    keyword_Links = []\n",
    "    k = 1\n",
    "    for i in range(4645):\n",
    "        #read every page\n",
    "        morepress = urljoin(morepress, '?page=' + str(i))\n",
    "        press = urllib.request.urlopen(morepress)\n",
    "        psoup = BeautifulSoup(press, \"html.parser\")\n",
    "        content = psoup.find_all(\"div\", class_=\"field field--name-field-display-title field--type-string field--label-hidden field__item\")\n",
    "        content.link = [i.find('a').get('href') for i in content]\n",
    "        for link in content.link:\n",
    "            article_link = urljoin('https://press.un.org/', link)\n",
    "            article = urllib.request.urlopen(article_link)\n",
    "            soup = BeautifulSoup(article, \"html.parser\")\n",
    "            article_content = soup.find('div', class_ = 'field field--name-body field--type-text-with-summary field--label-hidden field__item')\n",
    "            if keyword.lower() in article_content.text.lower():\n",
    "                keyword_Links.append(article_link)\n",
    "                print(article_link)\n",
    "                # generate html in text file\n",
    "                with open(str('1_'+str(k)+'.txt'), 'w') as f:\n",
    "                    art_page = urllib.request.urlopen(article_link)\n",
    "                    art_soup = BeautifulSoup(art_page, \"html.parser\")\n",
    "                    f.write(str(art_soup))\n",
    "                k += 1\n",
    "            if len(keyword_Links) == num:\n",
    "                return\n",
    "\n",
    "scrape_UNpress()      "
   ]
  },
  {
   "cell_type": "markdown",
   "metadata": {},
   "source": [
    "## 2. Crawl the press room of the European Parliament and extract at least 10 press releases that cover the plenary sessions and contain the word “crisis”."
   ]
  },
  {
   "cell_type": "code",
   "execution_count": 8,
   "metadata": {},
   "outputs": [],
   "source": [
    "from selenium import webdriver\n",
    "from selenium.webdriver.common.keys import Keys\n",
    "from selenium.common.exceptions import NoSuchElementException\n",
    "from msedge.selenium_tools import Edge, EdgeOptions\n",
    "from time import sleep\n",
    "from selenium.webdriver.common.action_chains import ActionChains"
   ]
  },
  {
   "cell_type": "code",
   "execution_count": 9,
   "metadata": {},
   "outputs": [],
   "source": [
    "def EUParliament(URL = 'https://www.europarl.europa.eu/news/en/press-room', num = 10, keyword = 'crisis'):\n",
    "    '''\n",
    "    Use selenium to click the \"load more button\" -- generate more URLs\n",
    "    Use bs4 for all other steps\n",
    "    '''\n",
    "    options = webdriver.ChromeOptions()  ##choose the chrome web browser\n",
    "    options.binary_location = \"/Applications/Chrome.app/Contents/MacOS/Google Chrome\"  ##The binary location of Chrome\n",
    "    chrome_driver_binary = \"/Users/charlesxiong/Downloads/chromedriver-mac-x64/chromedriver\"  ## The location of chromedriver: an open source tool for automated testing of webapps across many browsers\n",
    "    driver = webdriver.Chrome(chrome_driver_binary, chrome_options=options)  ##Open the driver\n",
    "    actions = ActionChains(driver)\n",
    "    driver.get(URL+'?contentType=plenary')\n",
    "    sleep(2)\n",
    "    try:\n",
    "        accept = driver.find_element_by_xpath('//*[@class=\"epjs_agree\"]').click() #need to accept cookies first\n",
    "        accept.click()\n",
    "    except:\n",
    "        for i in range(5):\n",
    "            sleep(1)\n",
    "            loadmore = driver.find_element_by_link_text('Load more')\n",
    "            loadmore.click()\n",
    "            \n",
    "    #Use the URLs after clicking load more button n times\n",
    "    html = driver.page_source\n",
    "    soup = BeautifulSoup(html, \"html.parser\")\n",
    "    col = soup.find_all(\"article\", class_=\"ep_gridcolumn ep-m_product ep-layout_linkmode\")\n",
    "    \n",
    "    #check if it is a Plenary session - it has to be, because we used \"?contentType=plenary\"\n",
    "    links = [i.find('a').get('href') for i in col \\\n",
    "             if 'Plenary session' in i.find('div', class_='ep_subtitle').text]\n",
    "    t = 0\n",
    "    for link in links:\n",
    "        article = urllib.request.urlopen(link)\n",
    "        soup = BeautifulSoup(article, \"html.parser\")\n",
    "        article_content = soup.find(id=\"website-body\").text\n",
    "        if keyword.lower() in article_content.lower():\n",
    "            print(link)\n",
    "            t += 1\n",
    "            with open(str('2_'+str(t)+'.txt'), 'w') as f:\n",
    "                art_page = urllib.request.urlopen(link)\n",
    "                art_soup = BeautifulSoup(art_page, \"html.parser\")\n",
    "                f.write(str(art_soup))\n",
    "            if t == num:\n",
    "                break"
   ]
  },
  {
   "cell_type": "code",
   "execution_count": 10,
   "metadata": {
    "scrolled": true
   },
   "outputs": [
    {
     "name": "stderr",
     "output_type": "stream",
     "text": [
      "<ipython-input-9-448d45f17d67>:9: DeprecationWarning: use options instead of chrome_options\n",
      "  driver = webdriver.Chrome(chrome_driver_binary, chrome_options=options)  ##Open the driver\n"
     ]
    },
    {
     "name": "stdout",
     "output_type": "stream",
     "text": [
      "https://www.europarl.europa.eu/news/en/press-room/20211118IPR17619/health-union-medicines-must-be-more-accessible-and-affordable\n",
      "https://www.europarl.europa.eu/news/en/press-room/20200615IPR81232/parliament-requests-further-action-to-save-eu-tourism\n",
      "https://www.europarl.europa.eu/news/en/press-room/20200910IPR86823/covid-19-eu-must-step-up-efforts-to-tackle-medicine-shortages\n",
      "https://www.europarl.europa.eu/news/en/press-room/20140203IPR34618/parliament-pushes-for-enforceable-air-passenger-rights\n",
      "https://www.europarl.europa.eu/news/en/press-room/20210422IPR02615/civil-protection-faster-eu-response-to-large-scale-emergencies\n",
      "https://www.europarl.europa.eu/news/en/press-room/20200415IPR77116/covid-19-meps-endorse-enhanced-support-to-eu-fisheries-and-aquaculture\n",
      "https://www.europarl.europa.eu/news/en/press-room/20201002IPR88432/parliament-demands-a-legally-binding-effective-mechanism-to-protect-eu-values\n",
      "https://www.europarl.europa.eu/news/en/press-room/20200615IPR81234/covid-19-easing-rules-to-encourage-banks-to-lend-to-companies-and-households\n",
      "https://www.europarl.europa.eu/news/en/press-room/20161020IPR47863/meps-call-for-eu-democracy-rule-of-law-and-fundamental-rights-watchdog\n",
      "https://www.europarl.europa.eu/news/en/press-room/20140411IPR43458/parliament-lifts-bank-bailout-burden-from-taxpayers-shoulders\n"
     ]
    }
   ],
   "source": [
    "EUParliament()"
   ]
  },
  {
   "cell_type": "code",
   "execution_count": 1,
   "metadata": {},
   "outputs": [],
   "source": []
  },
  {
   "cell_type": "code",
   "execution_count": null,
   "metadata": {},
   "outputs": [],
   "source": []
  }
 ],
 "metadata": {
  "kernelspec": {
   "display_name": "Python 3",
   "language": "python",
   "name": "python3"
  },
  "language_info": {
   "codemirror_mode": {
    "name": "ipython",
    "version": 3
   },
   "file_extension": ".py",
   "mimetype": "text/x-python",
   "name": "python",
   "nbconvert_exporter": "python",
   "pygments_lexer": "ipython3",
   "version": "3.8.5"
  }
 },
 "nbformat": 4,
 "nbformat_minor": 4
}
